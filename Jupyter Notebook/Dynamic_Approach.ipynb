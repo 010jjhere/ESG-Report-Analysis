{
  "nbformat": 4,
  "nbformat_minor": 0,
  "metadata": {
    "colab": {
      "provenance": []
    },
    "kernelspec": {
      "name": "python3",
      "display_name": "Python 3"
    },
    "language_info": {
      "name": "python"
    }
  },
  "cells": [
    {
      "cell_type": "code",
      "source": [
        "# pip install yahooquery"
      ],
      "metadata": {
        "id": "P8c4T16bMu73"
      },
      "execution_count": null,
      "outputs": []
    },
    {
      "cell_type": "code",
      "execution_count": null,
      "metadata": {
        "id": "2tmG7NyXMl2_"
      },
      "outputs": [],
      "source": [
        "import yahooquery as yq\n",
        "import yfinance as yf"
      ]
    },
    {
      "cell_type": "code",
      "source": [
        "import numpy as np\n",
        "import pandas as py"
      ],
      "metadata": {
        "id": "6MOzDgg53BI9"
      },
      "execution_count": null,
      "outputs": []
    },
    {
      "cell_type": "code",
      "source": [
        "from datetime import datetime"
      ],
      "metadata": {
        "id": "EllDDdpZb902"
      },
      "execution_count": null,
      "outputs": []
    },
    {
      "cell_type": "code",
      "source": [
        "aapl = Ticker('aapl')\n",
        "aapl.esg_scores"
      ],
      "metadata": {
        "colab": {
          "base_uri": "https://localhost:8080/"
        },
        "id": "NWqnS31vMoEG",
        "outputId": "85fc4191-a6b1-49db-88d3-6d8e970b5c38"
      },
      "execution_count": null,
      "outputs": [
        {
          "output_type": "execute_result",
          "data": {
            "text/plain": [
              "{'aapl': {'maxAge': 86400,\n",
              "  'totalEsg': 16.68,\n",
              "  'environmentScore': 0.65,\n",
              "  'socialScore': 6.86,\n",
              "  'governanceScore': 9.18,\n",
              "  'ratingYear': 2022,\n",
              "  'ratingMonth': 8,\n",
              "  'highestControversy': 3.0,\n",
              "  'peerCount': 55,\n",
              "  'esgPerformance': 'UNDER_PERF',\n",
              "  'peerGroup': 'Technology Hardware',\n",
              "  'relatedControversy': ['Social Supply Chain Incidents',\n",
              "   'Customer Incidents',\n",
              "   'Business Ethics Incidents'],\n",
              "  'peerEsgScorePerformance': {'min': 5.97,\n",
              "   'avg': 16.164727272727273,\n",
              "   'max': 25.7},\n",
              "  'peerGovernancePerformance': {'min': 3.45,\n",
              "   'avg': 7.1781481481481455,\n",
              "   'max': 11.5},\n",
              "  'peerSocialPerformance': {'min': 2.24,\n",
              "   'avg': 6.082037037037039,\n",
              "   'max': 12.55},\n",
              "  'peerEnvironmentPerformance': {'min': 0.03,\n",
              "   'avg': 3.093703703703704,\n",
              "   'max': 8.67},\n",
              "  'peerHighestControversyPerformance': {'min': 0.0,\n",
              "   'avg': 1.5454545454545454,\n",
              "   'max': 4.0},\n",
              "  'percentile': 14.68,\n",
              "  'environmentPercentile': None,\n",
              "  'socialPercentile': None,\n",
              "  'governancePercentile': None,\n",
              "  'adult': False,\n",
              "  'alcoholic': False,\n",
              "  'animalTesting': False,\n",
              "  'catholic': False,\n",
              "  'controversialWeapons': False,\n",
              "  'smallArms': False,\n",
              "  'furLeather': False,\n",
              "  'gambling': False,\n",
              "  'gmo': False,\n",
              "  'militaryContract': False,\n",
              "  'nuclear': False,\n",
              "  'pesticides': False,\n",
              "  'palmOil': False,\n",
              "  'coal': False,\n",
              "  'tobacco': False}}"
            ]
          },
          "metadata": {},
          "execution_count": 5
        }
      ]
    },
    {
      "cell_type": "code",
      "source": [
        "GetInformation = yf.Ticker(\"AAPL\")\n",
        "GetInformation.info[\"marketCap\"]"
      ],
      "metadata": {
        "colab": {
          "base_uri": "https://localhost:8080/"
        },
        "id": "VtpF-GbczmFv",
        "outputId": "f62978c9-8ed2-4a08-b601-af854fe35ce8"
      },
      "execution_count": null,
      "outputs": [
        {
          "output_type": "execute_result",
          "data": {
            "text/plain": [
              "828145795072"
            ]
          },
          "metadata": {},
          "execution_count": 4
        }
      ]
    },
    {
      "cell_type": "code",
      "source": [
        "GetInformation.info[\"sector\"]"
      ],
      "metadata": {
        "colab": {
          "base_uri": "https://localhost:8080/",
          "height": 35
        },
        "id": "x5sIj4tc0Cfo",
        "outputId": "9ac6a630-dbd1-4976-fb3a-d8a4fd154d33"
      },
      "execution_count": null,
      "outputs": [
        {
          "output_type": "execute_result",
          "data": {
            "text/plain": [
              "'Communication Services'"
            ],
            "application/vnd.google.colaboratory.intrinsic+json": {
              "type": "string"
            }
          },
          "metadata": {},
          "execution_count": 5
        }
      ]
    },
    {
      "cell_type": "code",
      "source": [
        "GetInformation.info[\"beta\"]"
      ],
      "metadata": {
        "colab": {
          "base_uri": "https://localhost:8080/"
        },
        "id": "4E5NJKiA0lmV",
        "outputId": "414b876a-bb19-44bf-f493-891b72c684bf"
      },
      "execution_count": null,
      "outputs": [
        {
          "output_type": "execute_result",
          "data": {
            "text/plain": [
              "1.21"
            ]
          },
          "metadata": {},
          "execution_count": 6
        }
      ]
    },
    {
      "cell_type": "code",
      "source": [
        "# Get the current date\n",
        "current_date = datetime.datetime.now()"
      ],
      "metadata": {
        "id": "IyZb8twow0gY"
      },
      "execution_count": null,
      "outputs": []
    },
    {
      "cell_type": "code",
      "source": [
        "start_date = f\"{current_date.year}-{current_date.month - 1}-1\"\n",
        "end_date = f\"{current_date.year}-{current_date.month}-{current_date.day - 1}\""
      ],
      "metadata": {
        "id": "xKIZhZfKxJ04"
      },
      "execution_count": null,
      "outputs": []
    },
    {
      "cell_type": "code",
      "source": [
        "print(start_date, end_date)"
      ],
      "metadata": {
        "colab": {
          "base_uri": "https://localhost:8080/"
        },
        "id": "yYaVsbfAxXwk",
        "outputId": "d73177ea-4a0e-4137-f5ee-3160a11383dd"
      },
      "execution_count": null,
      "outputs": [
        {
          "output_type": "stream",
          "name": "stdout",
          "text": [
            "2023-8-1 2023-9-22\n"
          ]
        }
      ]
    },
    {
      "cell_type": "code",
      "source": [
        "# Get the data for this tickers from yahoo finance\n",
        "data = yf.download(\"AAPL\",start_date,end_date, auto_adjust=True)\n",
        "print(data)"
      ],
      "metadata": {
        "id": "-jMssEUB2byw",
        "colab": {
          "base_uri": "https://localhost:8080/"
        },
        "outputId": "6c49a1e5-9121-4b1f-a0cc-ae7555fb8a83"
      },
      "execution_count": null,
      "outputs": [
        {
          "output_type": "stream",
          "name": "stdout",
          "text": [
            "\r[*********************100%%**********************]  1 of 1 completed\n",
            "                  Open        High         Low       Close     Volume\n",
            "Date                                                                 \n",
            "2023-08-01  195.975362  196.464691  195.016650  195.346207   35175100\n",
            "2023-08-02  194.776971  194.916782  191.591286  192.320297   50389300\n",
            "2023-08-03  191.311671  192.110580  190.432852  190.912201   61235200\n",
            "2023-08-04  185.269822  187.127314  181.674670  181.744583  115799700\n",
            "2023-08-07  181.884386  182.883037  177.110833  178.608810   97576100\n",
            "2023-08-08  179.447673  180.026893  177.340518  179.557526   67823000\n",
            "2023-08-09  180.626086  180.686002  176.771290  177.949707   60378500\n",
            "2023-08-10  179.237954  180.506245  177.360500  177.729996   54686900\n",
            "2023-08-11  177.320007  178.619995  176.550003  177.789993   51988100\n",
            "2023-08-14  177.970001  179.690002  177.309998  179.460007   43675600\n",
            "2023-08-15  178.880005  179.479996  177.050003  177.449997   43622600\n",
            "2023-08-16  177.130005  178.539993  176.500000  176.570007   46964900\n",
            "2023-08-17  177.139999  177.509995  173.479996  174.000000   66062900\n",
            "2023-08-18  172.300003  175.100006  171.960007  174.490005   61114200\n",
            "2023-08-21  175.070007  176.130005  173.740005  175.839996   46311900\n",
            "2023-08-22  177.059998  177.679993  176.250000  177.229996   42084200\n",
            "2023-08-23  178.520004  181.550003  178.330002  181.119995   52722800\n",
            "2023-08-24  180.669998  181.100006  176.009995  176.380005   54945800\n",
            "2023-08-25  177.380005  179.149994  175.820007  178.610001   51449600\n",
            "2023-08-28  180.089996  180.589996  178.550003  180.190002   43820700\n",
            "2023-08-29  179.699997  184.899994  179.500000  184.119995   53003900\n",
            "2023-08-30  184.940002  187.850006  184.740005  187.649994   60813900\n",
            "2023-08-31  187.839996  189.119995  187.479996  187.869995   60794500\n",
            "2023-09-01  189.490005  189.919998  188.279999  189.460007   45732600\n",
            "2023-09-05  188.279999  189.979996  187.610001  189.699997   45280000\n",
            "2023-09-06  188.399994  188.850006  181.470001  182.910004   81755800\n",
            "2023-09-07  175.179993  178.210007  173.539993  177.559998  112488800\n",
            "2023-09-08  178.350006  180.240005  177.789993  178.179993   65551300\n",
            "2023-09-11  180.070007  180.300003  177.339996  179.360001   58953100\n",
            "2023-09-12  179.490005  180.130005  174.820007  176.300003   90370200\n",
            "2023-09-13  176.509995  177.300003  173.979996  174.210007   84267900\n",
            "2023-09-14  174.000000  176.100006  173.580002  175.740005   60895800\n",
            "2023-09-15  176.479996  176.500000  173.820007  175.009995  109205100\n",
            "2023-09-18  176.479996  179.380005  176.169998  177.970001   67257600\n",
            "2023-09-19  177.520004  179.630005  177.130005  179.070007   51826900\n",
            "2023-09-20  179.259995  179.699997  175.399994  175.490005   58436200\n",
            "2023-09-21  174.550003  176.300003  173.860001  173.929993   63047900\n"
          ]
        }
      ]
    }
  ]
}